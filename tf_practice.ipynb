{
 "cells": [
  {
   "cell_type": "code",
   "execution_count": 1,
   "metadata": {},
   "outputs": [],
   "source": [
    "import torch\n",
    "import torch.nn as nn\n",
    "from torch.autograd import Variable\n",
    "import torch.optim as optim"
   ]
  },
  {
   "cell_type": "code",
   "execution_count": 20,
   "metadata": {
    "collapsed": true
   },
   "outputs": [],
   "source": [
    "class TF(nn.Module):\n",
    "    def __init__(self, input_size, R):\n",
    "        super(TF, self).__init__()\n",
    "        self.I = input_size[0]\n",
    "        self.J = input_size[1]\n",
    "        self.K = input_size[2]\n",
    "        self.U = nn.Parameter(torch.Tensor(R, self.I).uniform_(0,1), requires_grad=True)\n",
    "        self.V = nn.Parameter(torch.Tensor(R, self.J).uniform_(0,1), requires_grad=True)\n",
    "        self.W = nn.Parameter(torch.Tensor(R, self.K).uniform_(0,1), requires_grad=True)\n",
    "        \n",
    "    def non_negative(self, R=None):\n",
    "#         torch.clamp(self.U, min=0)\n",
    "#         torch.clamp(self.V, min=0)\n",
    "#         torch.clamp(self.W, min=0)\n",
    "        torch.clamp(self.U, min=0)\n",
    "        torch.clamp(self.V, min=0)\n",
    "        torch.clamp(self.W, min=0)\n",
    "\n",
    "    def forward_one_rank(self, u, v, w):\n",
    "        UV = torch.ger(u, v)\n",
    "        UV2 = UV.unsqueeze(2).repeat(1,1,self.K)\n",
    "        W2 = w.unsqueeze(0).unsqueeze(1).repeat(self.I, self.J, 1)\n",
    "        outputs = UV2 * W2\n",
    "        return outputs\n",
    "    \n",
    "    def forward(self, X=None):\n",
    "        if X is not None:\n",
    "            weight = (X != 0).float()\n",
    "        else:\n",
    "            weight = Variable(torch.ones(self.I, self.J, self.K))\n",
    "        \n",
    "        output = self.forward_one_rank(self.U[0], self.V[0], self.W[0])\n",
    "        \n",
    "        for i in np.arange(1, R):\n",
    "            one_rank = self.forward_one_rank(self.U[i], self.V[i], self.W[i])\n",
    "            output = output + one_rank\n",
    "        \n",
    "        return output"
   ]
  },
  {
   "cell_type": "code",
   "execution_count": 19,
   "metadata": {},
   "outputs": [
    {
     "name": "stdout",
     "output_type": "stream",
     "text": [
      "0: 186.80499267578125\n",
      "100: 139.28732299804688\n",
      "200: 108.21112823486328\n",
      "300: 91.53741455078125\n",
      "400: 84.03804779052734\n",
      "500: 81.01953125\n",
      "600: 79.81192016601562\n",
      "700: 79.2923583984375\n",
      "800: 79.03129577636719\n",
      "900: 78.8693618774414\n",
      "1000: 78.75040435791016\n"
     ]
    }
   ],
   "source": [
    "input_size = (11, 10, 9)\n",
    "X = torch.Tensor(11, 10, 9).uniform_(0, 1)\n",
    "\n",
    "R = 2\n",
    "model = TF(input_size, R)\n",
    "criterion = torch.nn.MSELoss(size_average=False)\n",
    "optimizer = optim.Adam(model.parameters(), lr=0.001)\n",
    "\n",
    "X = Variable(X)\n",
    "\n",
    "epoch = 1000\n",
    "for i in range(epoch):\n",
    "    output = model.forward()\n",
    "    loss = criterion(output, X)\n",
    "    \n",
    "    optimizer.zero_grad()\n",
    "    \n",
    "    loss.backward()\n",
    "    optimizer.step()\n",
    "    \n",
    "    model.non_negative()\n",
    "    \n",
    "    if i % 100 == 0:\n",
    "        print('{}: {}'.format(i, loss.data[0]))\n",
    "        \n",
    "print('{}: {}'.format(epoch, loss.data[0]))"
   ]
  },
  {
   "cell_type": "code",
   "execution_count": 15,
   "metadata": {},
   "outputs": [
    {
     "name": "stdout",
     "output_type": "stream",
     "text": [
      "torch.Size([2, 11]) torch.Size([2, 10]) torch.Size([2, 9])\n"
     ]
    }
   ],
   "source": [
    "model.non_negative()\n",
    "print(model.U.shape, model.V.shape, model.W.shape)"
   ]
  },
  {
   "cell_type": "code",
   "execution_count": null,
   "metadata": {},
   "outputs": [],
   "source": []
  }
 ],
 "metadata": {
  "kernelspec": {
   "display_name": "Python 3",
   "language": "python",
   "name": "python3"
  },
  "language_info": {
   "codemirror_mode": {
    "name": "ipython",
    "version": 3
   },
   "file_extension": ".py",
   "mimetype": "text/x-python",
   "name": "python",
   "nbconvert_exporter": "python",
   "pygments_lexer": "ipython3",
   "version": "3.6.4"
  }
 },
 "nbformat": 4,
 "nbformat_minor": 2
}
