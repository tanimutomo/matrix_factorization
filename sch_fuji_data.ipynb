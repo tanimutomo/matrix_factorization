{
 "cells": [
  {
   "cell_type": "code",
   "execution_count": 1,
   "metadata": {
    "collapsed": false
   },
   "outputs": [],
   "source": [
    "import numpy as np\n",
    "import pandas as pd\n",
    "import codecs\n",
    "import geocoder\n",
    "import folium\n",
    "from folium.plugins import HeatMap"
   ]
  },
  {
   "cell_type": "code",
   "execution_count": 2,
   "metadata": {
    "collapsed": false,
    "scrolled": true
   },
   "outputs": [],
   "source": [
    "elesch = pd.read_csv('sch_data/elesch_fuji_name.csv', encoding='utf-16', names=['name'])\n",
    "elesch['address'] = pd.read_csv('sch_data/elesch_fuji_address.csv', encoding='utf-16', names=['address'])"
   ]
  },
  {
   "cell_type": "code",
   "execution_count": 3,
   "metadata": {
    "collapsed": false
   },
   "outputs": [],
   "source": [
    "juhisch = pd.read_csv('sch_data/juhisch_fuji_name.csv', encoding='utf-16', names=['name'])\n",
    "juhisch['address'] = pd.read_csv('sch_data/juhisch_fuji_address.csv', encoding='utf-16', names=['address'])"
   ]
  },
  {
   "cell_type": "code",
   "execution_count": 4,
   "metadata": {
    "collapsed": false
   },
   "outputs": [],
   "source": [
    "def geocoding(a): # geocoding\n",
    "    Localname = str(a) #u'{}'.format(str(a))\n",
    "    g = geocoder.google(Localname)\n",
    "    return g.latlng"
   ]
  },
  {
   "cell_type": "code",
   "execution_count": null,
   "metadata": {
    "collapsed": true
   },
   "outputs": [],
   "source": [
    "geocoding('東京都足立区南花畑1-3-6')"
   ]
  },
  {
   "cell_type": "code",
   "execution_count": null,
   "metadata": {
    "collapsed": false
   },
   "outputs": [],
   "source": [
    "def mk_latlng_col(df, address_col): # Add lat, lng columns to df.\n",
    "    latlng_list = []\n",
    "    for index, row in df.iterrows():\n",
    "        latlng = geocoding(row[address_col])\n",
    "        while latlng == None or latlng == 0:\n",
    "            latlng = geocoding(row[address_col])\n",
    "        print(latlng)\n",
    "        latlng_list.append(latlng)\n",
    "#     print(latlng_list)\n",
    "    latlng_df = pd.DataFrame(np.array(latlng_list), columns=['lat', 'lng'])\n",
    "    return pd.concat([df, latlng_df], axis=1)\n",
    "    #     print(type(row[1]))\n",
    "    #     print(index, geocoding(str(row[1])))\n",
    "    # elesch['lat'] = "
   ]
  },
  {
   "cell_type": "code",
   "execution_count": null,
   "metadata": {
    "collapsed": true
   },
   "outputs": [],
   "source": [
    "elesch_loc = mk_latlng_col(elesch, 1)\n",
    "juhisch_loc = mk_latlng_col(juhisch, 1)"
   ]
  },
  {
   "cell_type": "code",
   "execution_count": null,
   "metadata": {
    "collapsed": false
   },
   "outputs": [],
   "source": [
    "# Make df of elesch and juhisch\n",
    "ele_juhi_sch = pd.concat([elesch_loc, juhisch_loc], ignore_index=True, axis=0)"
   ]
  },
  {
   "cell_type": "code",
   "execution_count": null,
   "metadata": {
    "collapsed": true
   },
   "outputs": [],
   "source": [
    "ele_juhi_sch"
   ]
  },
  {
   "cell_type": "markdown",
   "metadata": {},
   "source": [
    "## Heatmap of school"
   ]
  },
  {
   "cell_type": "code",
   "execution_count": null,
   "metadata": {
    "collapsed": true
   },
   "outputs": [],
   "source": [
    "def mk_heatmap(df, hm=None): # Make a heatmap\n",
    "    fujisawa = [35.37,139.47]\n",
    "    center = fujisawa\n",
    "    hmap = folium.Map(location=center, zoom_start=12)\n",
    "    marker_list = []\n",
    "    for i in range(len(df.index)):\n",
    "        if hm == None:\n",
    "            marker_latlng = [df.at[df.index.values[i],'lat'], df.at[df.index.values[i],'lng']]\n",
    "            input_list = marker_latlng\n",
    "        else:\n",
    "            marker_latlngx = [df.at[df.index.values[i],'lat'], df.at[df.index.values[i],'lng'], df.loc[df.index.values[i], hm]]\n",
    "            input_list = marker_latlngx\n",
    "        marker_list.append(input_list)\n",
    "    if hm == None:\n",
    "        hmarker = HeatMap(marker_list)\n",
    "    else:\n",
    "        hmarker = HeatMap(marker_list, max_zoom=13, radius=40, blur=18)\n",
    "    hmap.add_child(hmarker)\n",
    "    return hmap"
   ]
  },
  {
   "cell_type": "code",
   "execution_count": null,
   "metadata": {
    "collapsed": false
   },
   "outputs": [],
   "source": [
    "mk_heatmap(ele_juhi_sch)"
   ]
  },
  {
   "cell_type": "code",
   "execution_count": null,
   "metadata": {
    "collapsed": false
   },
   "outputs": [],
   "source": [
    "mk_heatmap(elesch_loc)"
   ]
  },
  {
   "cell_type": "code",
   "execution_count": null,
   "metadata": {
    "collapsed": false
   },
   "outputs": [],
   "source": [
    "mk_heatmap(juhisch_loc)"
   ]
  },
  {
   "cell_type": "code",
   "execution_count": null,
   "metadata": {
    "collapsed": true
   },
   "outputs": [],
   "source": []
  },
  {
   "cell_type": "code",
   "execution_count": null,
   "metadata": {
    "collapsed": true
   },
   "outputs": [],
   "source": []
  }
 ],
 "metadata": {
  "anaconda-cloud": {},
  "kernelspec": {
   "display_name": "Python [conda env:anaconda3-4.2.0]",
   "language": "python",
   "name": "conda-env-anaconda3-4.2.0-py"
  },
  "language_info": {
   "codemirror_mode": {
    "name": "ipython",
    "version": 3
   },
   "file_extension": ".py",
   "mimetype": "text/x-python",
   "name": "python",
   "nbconvert_exporter": "python",
   "pygments_lexer": "ipython3",
   "version": "3.5.2"
  }
 },
 "nbformat": 4,
 "nbformat_minor": 1
}
