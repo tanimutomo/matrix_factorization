{
 "cells": [
  {
   "cell_type": "code",
   "execution_count": 13,
   "metadata": {
    "collapsed": false
   },
   "outputs": [],
   "source": [
    "import numpy as np\n",
    "import torch"
   ]
  },
  {
   "cell_type": "code",
   "execution_count": 14,
   "metadata": {
    "collapsed": false
   },
   "outputs": [],
   "source": [
    "t1 = torch.rand(2,2)\n",
    "t2 = torch.rand(2,2)"
   ]
  },
  {
   "cell_type": "code",
   "execution_count": 52,
   "metadata": {
    "collapsed": true
   },
   "outputs": [],
   "source": [
    "def kronecker_product(t1, t2):\n",
    "    \"\"\"\n",
    "    Computes the Kronecker product between two tensors.\n",
    "    See https://en.wikipedia.org/wiki/Kronecker_product\n",
    "    \"\"\"\n",
    "    # t1,t2はtorchのテンソル\n",
    "    t1_height, t1_width = t1.size()\n",
    "    t2_height, t2_width = t2.size()\n",
    "    # heightは行, widthは列を示す．\n",
    "    out_height = t1_height * t2_height\n",
    "    out_width = t1_width * t2_width\n",
    "    # outputの行列のサイズ\n",
    "\n",
    "    tiled_t2 = t2.repeat(t1_height, t1_width)\n",
    "    # 引数の分，行と列にコピーして増やしていく．これによってt1分の行と列方向に行列をコピーした．\n",
    "    expanded_t1 = (\n",
    "        t1.unsqueeze(2)\n",
    "          .unsqueeze(3)\n",
    "        # 要素ごとに分割\n",
    "          .repeat(1, t2_height, t2_width, 1)\n",
    "        # 要素ごとの行列をt2の大きさと同じ大きさまで拡張\n",
    "          .view(out_height, out_width)\n",
    "        # 拡張した行列を組み合わせて，tailed_t2やoutput tensorと同じ大きにする．\n",
    "    )\n",
    "#     print(t1)\n",
    "#     print(expanded_t1)\n",
    "#     print(t2)\n",
    "#     print(tiled_t2)\n",
    "    return expanded_t1 * tiled_t2"
   ]
  },
  {
   "cell_type": "code",
   "execution_count": 51,
   "metadata": {
    "collapsed": false
   },
   "outputs": [
    {
     "name": "stdout",
     "output_type": "stream",
     "text": [
      "\n",
      "(0 ,.,.) = \n",
      "   1   2   3\n",
      "\n",
      "(1 ,.,.) = \n",
      "   4   5   6\n",
      "\n",
      "(2 ,.,.) = \n",
      "   7   8   9\n",
      "\n",
      "(3 ,.,.) = \n",
      "  10  11  12\n",
      "[torch.FloatTensor of size 4x1x3]\n",
      "\n",
      "\n",
      "(0 ,.,.) = \n",
      "   1\n",
      "   2\n",
      "   3\n",
      "\n",
      "(1 ,.,.) = \n",
      "   4\n",
      "   5\n",
      "   6\n",
      "\n",
      "(2 ,.,.) = \n",
      "   7\n",
      "   8\n",
      "   9\n",
      "\n",
      "(3 ,.,.) = \n",
      "  10\n",
      "  11\n",
      "  12\n",
      "[torch.FloatTensor of size 4x3x1]\n",
      "\n",
      "\n",
      "(0 ,0 ,.,.) = \n",
      "   1\n",
      "\n",
      "(0 ,1 ,.,.) = \n",
      "   2\n",
      "\n",
      "(0 ,2 ,.,.) = \n",
      "   3\n",
      "\n",
      "(1 ,0 ,.,.) = \n",
      "   4\n",
      "\n",
      "(1 ,1 ,.,.) = \n",
      "   5\n",
      "\n",
      "(1 ,2 ,.,.) = \n",
      "   6\n",
      "\n",
      "(2 ,0 ,.,.) = \n",
      "   7\n",
      "\n",
      "(2 ,1 ,.,.) = \n",
      "   8\n",
      "\n",
      "(2 ,2 ,.,.) = \n",
      "   9\n",
      "\n",
      "(3 ,0 ,.,.) = \n",
      "  10\n",
      "\n",
      "(3 ,1 ,.,.) = \n",
      "  11\n",
      "\n",
      "(3 ,2 ,.,.) = \n",
      "  12\n",
      "[torch.FloatTensor of size 4x3x1x1]\n",
      "\n"
     ]
    }
   ],
   "source": [
    "x = torch.Tensor([[1,2,3],[4,5,6],[7,8,9],[10,11,12]])\n",
    "print(x.unsqueeze(1))\n",
    "print(x.unsqueeze(2))\n",
    "print(x.unsqueeze(2).unsqueeze(3))"
   ]
  },
  {
   "cell_type": "code",
   "execution_count": 20,
   "metadata": {
    "collapsed": false
   },
   "outputs": [
    {
     "name": "stdout",
     "output_type": "stream",
     "text": [
      "\n",
      " 0.6264  0.4205\n",
      " 0.0307  0.8915\n",
      "[torch.FloatTensor of size 2x2]\n",
      "\n",
      "\n",
      " 0.6264  0.6264  0.4205  0.4205\n",
      " 0.6264  0.6264  0.4205  0.4205\n",
      " 0.0307  0.0307  0.8915  0.8915\n",
      " 0.0307  0.0307  0.8915  0.8915\n",
      "[torch.FloatTensor of size 4x4]\n",
      "\n",
      "\n",
      " 0.1056  0.6118\n",
      " 0.0651  0.3776\n",
      "[torch.FloatTensor of size 2x2]\n",
      "\n",
      "\n",
      " 0.1056  0.6118  0.1056  0.6118\n",
      " 0.0651  0.3776  0.0651  0.3776\n",
      " 0.1056  0.6118  0.1056  0.6118\n",
      " 0.0651  0.3776  0.0651  0.3776\n",
      "[torch.FloatTensor of size 4x4]\n",
      "\n"
     ]
    },
    {
     "data": {
      "text/plain": [
       "\n",
       " 0.0662  0.3833  0.0444  0.2573\n",
       " 0.0408  0.2365  0.0274  0.1588\n",
       " 0.0032  0.0188  0.0942  0.5454\n",
       " 0.0020  0.0116  0.0580  0.3366\n",
       "[torch.FloatTensor of size 4x4]"
      ]
     },
     "execution_count": 20,
     "metadata": {},
     "output_type": "execute_result"
    }
   ],
   "source": [
    "kronecker_product(t1,t2)"
   ]
  },
  {
   "cell_type": "code",
   "execution_count": null,
   "metadata": {
    "collapsed": true
   },
   "outputs": [],
   "source": []
  }
 ],
 "metadata": {
  "anaconda-cloud": {},
  "kernelspec": {
   "display_name": "Python [conda env:anaconda3-4.2.0]",
   "language": "python",
   "name": "conda-env-anaconda3-4.2.0-py"
  },
  "language_info": {
   "codemirror_mode": {
    "name": "ipython",
    "version": 3
   },
   "file_extension": ".py",
   "mimetype": "text/x-python",
   "name": "python",
   "nbconvert_exporter": "python",
   "pygments_lexer": "ipython3",
   "version": "3.5.2"
  }
 },
 "nbformat": 4,
 "nbformat_minor": 1
}
