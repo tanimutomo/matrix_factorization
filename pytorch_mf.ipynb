{
 "cells": [
  {
   "cell_type": "code",
   "execution_count": 1,
   "metadata": {
    "collapsed": false
   },
   "outputs": [],
   "source": [
    "import torch\n",
    "import torch.nn as nn\n",
    "from torch.autograd import Variable\n",
    "import torch.optim as optim\n",
    "import math\n",
    "import numpy as np"
   ]
  },
  {
   "cell_type": "code",
   "execution_count": 2,
   "metadata": {
    "collapsed": false
   },
   "outputs": [],
   "source": [
    "x = Variable(torch.Tensor([[1,2,3],[4,5,6]]))\n",
    "y = Variable(torch.Tensor([[7,8],[9,10],[11,12]]))"
   ]
  },
  {
   "cell_type": "code",
   "execution_count": 3,
   "metadata": {
    "collapsed": false
   },
   "outputs": [
    {
     "data": {
      "text/plain": [
       "Variable containing:\n",
       " 217\n",
       "[torch.FloatTensor of size 1]"
      ]
     },
     "execution_count": 3,
     "metadata": {},
     "output_type": "execute_result"
    }
   ],
   "source": [
    "torch.dot(x,y)"
   ]
  },
  {
   "cell_type": "code",
   "execution_count": 4,
   "metadata": {
    "collapsed": false
   },
   "outputs": [
    {
     "data": {
      "text/plain": [
       "\n",
       "-1.4562 -0.6410  0.6894\n",
       " 0.6798 -1.1414 -0.3796\n",
       "-0.0938 -0.4423 -1.1183\n",
       " 0.5069 -0.3467  0.3102\n",
       "[torch.FloatTensor of size 4x3]"
      ]
     },
     "execution_count": 4,
     "metadata": {},
     "output_type": "execute_result"
    }
   ],
   "source": [
    "torch.randn(4,3)"
   ]
  },
  {
   "cell_type": "code",
   "execution_count": 5,
   "metadata": {
    "collapsed": false
   },
   "outputs": [
    {
     "data": {
      "text/plain": [
       "Variable containing:\n",
       " 0.2523  1.1193 -0.5316\n",
       "-0.8734 -0.4813 -0.1955\n",
       " 0.6738 -1.6651  0.2236\n",
       " 1.4731 -0.7909  0.8869\n",
       "[torch.FloatTensor of size 4x3]"
      ]
     },
     "execution_count": 5,
     "metadata": {},
     "output_type": "execute_result"
    }
   ],
   "source": [
    "Variable(torch.randn(4,3))"
   ]
  },
  {
   "cell_type": "code",
   "execution_count": 5,
   "metadata": {
    "collapsed": false
   },
   "outputs": [],
   "source": [
    "def mf(R, K, alpha=0.0002, beta=0.02, step=10000):\n",
    "    P = Variable(torch.randn(K,R.size(0)))\n",
    "    Q = Variable(torch.randn(K,R.size(1)))\n",
    "    e_ui = 0\n",
    "    errs = []\n",
    "    for s in range(step):\n",
    "        for u in range(R.size(0)):\n",
    "            for i in range(R.size(1)):\n",
    "                if R[u,i].data[0] == 0:\n",
    "                    continue\n",
    "                e_ui = R[u,i] - torch.dot(P[:,u],Q[:,i])\n",
    "                for k in range(K):\n",
    "                    P[k,u] = P[k, u] + alpha * (2 * e_ui * Q[k,i] - beta * P[k,u])\n",
    "                    Q[k,i] = Q[k, i] + alpha * (2 * e_ui * P[k,u] - beta * Q[k,i])\n",
    "        error_R = torch.matmul(torch.t(P),Q)\n",
    "        e = 0\n",
    "        for u in range(R.size(0)):\n",
    "            for i in range(R.size(1)):\n",
    "                if R[u,i].data[0] == 0:\n",
    "                    continue\n",
    "                e = e + torch.pow(R[u,i] - torch.dot(P[:,u],Q[:,i]),2)\n",
    "                for k in range(K):\n",
    "                    e =  e + 0.5 * beta * torch.pow(P[k][u],2) + torch.pow(Q[k][i],2)\n",
    "        errs.append(e.data[0])\n",
    "        if s % 100 == 0 :\n",
    "            print(e.data[0])\n",
    "    return P,Q, errs\n",
    "    "
   ]
  },
  {
   "cell_type": "code",
   "execution_count": 6,
   "metadata": {
    "collapsed": false
   },
   "outputs": [],
   "source": [
    "R = Variable(torch.FloatTensor([\n",
    "        [5, 3, 0, 1],\n",
    "        [4, 0, 0, 1],\n",
    "        [1, 1, 0, 5],\n",
    "        [1, 0, 0, 4],\n",
    "        [0, 1, 5, 4],\n",
    "        ]\n",
    "    ))"
   ]
  },
  {
   "cell_type": "code",
   "execution_count": 7,
   "metadata": {
    "collapsed": false
   },
   "outputs": [],
   "source": [
    "#mf(R, 2)"
   ]
  },
  {
   "cell_type": "code",
   "execution_count": 9,
   "metadata": {
    "collapsed": false
   },
   "outputs": [
    {
     "name": "stdout",
     "output_type": "stream",
     "text": [
      "Variable containing:\n",
      " 0.7875  0.1924  0.2367  0.2955  0.9673  0.1931\n",
      " 0.8374 -0.5782  0.9000  0.7750 -0.5620  0.4693\n",
      "-0.9157  0.7180  0.7439  0.5742  0.9180  0.1809\n",
      "-0.2145 -0.8647 -0.9344  0.5862  0.1713 -0.9328\n",
      " 0.4236 -0.5280  0.9849  0.8556 -0.8292 -0.2644\n",
      "[torch.FloatTensor of size 5x6]\n",
      "\n"
     ]
    },
    {
     "ename": "RuntimeError",
     "evalue": "bool value of Variable objects containing non-empty torch.FloatTensor is ambiguous",
     "output_type": "error",
     "traceback": [
      "\u001b[0;31m---------------------------------------------------------------------------\u001b[0m",
      "\u001b[0;31mRuntimeError\u001b[0m                              Traceback (most recent call last)",
      "\u001b[0;32m<ipython-input-9-a0ceec3a0ebb>\u001b[0m in \u001b[0;36m<module>\u001b[0;34m()\u001b[0m\n\u001b[1;32m      2\u001b[0m \u001b[0mrelu\u001b[0m \u001b[0;34m=\u001b[0m \u001b[0mtorch\u001b[0m\u001b[0;34m.\u001b[0m\u001b[0mnn\u001b[0m\u001b[0;34m.\u001b[0m\u001b[0mReLU\u001b[0m\u001b[0;34m\u001b[0m\u001b[0m\n\u001b[1;32m      3\u001b[0m \u001b[0mprint\u001b[0m\u001b[0;34m(\u001b[0m\u001b[0ma\u001b[0m\u001b[0;34m)\u001b[0m\u001b[0;34m\u001b[0m\u001b[0m\n\u001b[0;32m----> 4\u001b[0;31m \u001b[0mprint\u001b[0m\u001b[0;34m(\u001b[0m\u001b[0mrelu\u001b[0m\u001b[0;34m(\u001b[0m\u001b[0ma\u001b[0m\u001b[0;34m)\u001b[0m\u001b[0;34m)\u001b[0m\u001b[0;34m\u001b[0m\u001b[0m\n\u001b[0m\u001b[1;32m      5\u001b[0m \u001b[0;31m# print(aa)\u001b[0m\u001b[0;34m\u001b[0m\u001b[0;34m\u001b[0m\u001b[0m\n",
      "\u001b[0;32m~/.pyenv/versions/anaconda3-4.2.0/lib/python3.5/site-packages/torch/nn/modules/activation.py\u001b[0m in \u001b[0;36m__repr__\u001b[0;34m(self)\u001b[0m\n\u001b[1;32m     75\u001b[0m \u001b[0;34m\u001b[0m\u001b[0m\n\u001b[1;32m     76\u001b[0m     \u001b[0;32mdef\u001b[0m \u001b[0m__repr__\u001b[0m\u001b[0;34m(\u001b[0m\u001b[0mself\u001b[0m\u001b[0;34m)\u001b[0m\u001b[0;34m:\u001b[0m\u001b[0;34m\u001b[0m\u001b[0m\n\u001b[0;32m---> 77\u001b[0;31m         \u001b[0minplace_str\u001b[0m \u001b[0;34m=\u001b[0m \u001b[0;34m'inplace'\u001b[0m \u001b[0;32mif\u001b[0m \u001b[0mself\u001b[0m\u001b[0;34m.\u001b[0m\u001b[0minplace\u001b[0m \u001b[0;32melse\u001b[0m \u001b[0;34m''\u001b[0m\u001b[0;34m\u001b[0m\u001b[0m\n\u001b[0m\u001b[1;32m     78\u001b[0m         \u001b[0;32mreturn\u001b[0m \u001b[0mself\u001b[0m\u001b[0;34m.\u001b[0m\u001b[0m__class__\u001b[0m\u001b[0;34m.\u001b[0m\u001b[0m__name__\u001b[0m \u001b[0;34m+\u001b[0m \u001b[0;34m'('\u001b[0m\u001b[0;31m \u001b[0m\u001b[0;31m\\\u001b[0m\u001b[0;34m\u001b[0m\u001b[0m\n\u001b[1;32m     79\u001b[0m             \u001b[0;34m+\u001b[0m \u001b[0minplace_str\u001b[0m \u001b[0;34m+\u001b[0m \u001b[0;34m')'\u001b[0m\u001b[0;34m\u001b[0m\u001b[0m\n",
      "\u001b[0;32m~/.pyenv/versions/anaconda3-4.2.0/lib/python3.5/site-packages/torch/autograd/variable.py\u001b[0m in \u001b[0;36m__bool__\u001b[0;34m(self)\u001b[0m\n\u001b[1;32m    123\u001b[0m             \u001b[0;32mreturn\u001b[0m \u001b[0;32mFalse\u001b[0m\u001b[0;34m\u001b[0m\u001b[0m\n\u001b[1;32m    124\u001b[0m         raise RuntimeError(\"bool value of Variable objects containing non-empty \" +\n\u001b[0;32m--> 125\u001b[0;31m                            torch.typename(self.data) + \" is ambiguous\")\n\u001b[0m\u001b[1;32m    126\u001b[0m \u001b[0;34m\u001b[0m\u001b[0m\n\u001b[1;32m    127\u001b[0m     \u001b[0m__nonzero__\u001b[0m \u001b[0;34m=\u001b[0m \u001b[0m__bool__\u001b[0m\u001b[0;34m\u001b[0m\u001b[0m\n",
      "\u001b[0;31mRuntimeError\u001b[0m: bool value of Variable objects containing non-empty torch.FloatTensor is ambiguous"
     ]
    }
   ],
   "source": [
    "a = Variable(torch.Tensor(5,6).uniform_(-1,1))\n",
    "relu = torch.nn.ReLU\n",
    "print(a)\n",
    "print(relu(a))\n",
    "# print(aa)"
   ]
  },
  {
   "cell_type": "code",
   "execution_count": 44,
   "metadata": {
    "collapsed": false
   },
   "outputs": [],
   "source": [
    "class MF(nn.Module):\n",
    "    def __init__(self, input_size, K): \n",
    "        super(MF,self).__init__() #最初の呪文\n",
    "        self.input_size = input_size\n",
    "        self.P = nn.Parameter(torch.Tensor(K, input_size[0]).uniform_(0,1)) #パラメーターを指定\n",
    "        self.Q = nn.Parameter(torch.Tensor(K, input_size[1]).uniform_(0,1))\n",
    "        \n",
    "    def non_negative(self,K):\n",
    "        for k in range(K):\n",
    "            for i in range(R.size[0]):\n",
    "                if self.P[k,i] <= 0:\n",
    "                    self.P = 0\n",
    "            for j in range(R.size[1]):\n",
    "                if self.Q[k,j] <= 0:\n",
    "                    self.Q = 0\n",
    "                    \n",
    "    def forward(self, R=None): #Outputをだすメソッド\n",
    "        if R is not None: #引数としてRがあれば，0を考慮しましょう．\n",
    "            weight = (R != 0).float() #floatにすることで，True,Falseを1,0という数字に変換している．\n",
    "        else: #引数としてRがなければ，0は考慮しない．\n",
    "            weight = Variable(torch.ones(self.input_size)) #0を考慮しない場合，weightを1の正方行列にすることで，下のreturnを変化させないようにしている．\n",
    "        return torch.matmul(torch.t(self.P), self.Q) * weight #weightをかけて0だったら消して，1だったらそのままにする．\n",
    "\n",
    "def ll_gaussian(R, mean):\n",
    "    a = -0.5 * R.size(0) * R.size(1) * math.log(2 * math.pi)\n",
    "    b = -0.5 * torch.sum(torch.pow(x - mean,2))\n",
    "    return a + b\n",
    "\n",
    "def mll_poisson(R, pq):\n",
    "    I = Variable(torch.ones(R.size(0), R.size(1)))\n",
    "    return torch.sum(-R * (torch.log(pq) * I) + pq)\n",
    "\n",
    "def map_pred(p, q, lam):\n",
    "    return math.log(2 * math.pi / lam) + lam / 2 * (torch.norm(p, 2) + torch.norm(q, 2))"
   ]
  },
  {
   "cell_type": "code",
   "execution_count": 46,
   "metadata": {
    "collapsed": false,
    "scrolled": true
   },
   "outputs": [
    {
     "ename": "TypeError",
     "evalue": "'builtin_function_or_method' object is not subscriptable",
     "output_type": "error",
     "traceback": [
      "\u001b[0;31m---------------------------------------------------------------------------\u001b[0m",
      "\u001b[0;31mTypeError\u001b[0m                                 Traceback (most recent call last)",
      "\u001b[0;32m<ipython-input-46-88f60885b019>\u001b[0m in \u001b[0;36m<module>\u001b[0;34m()\u001b[0m\n\u001b[1;32m     11\u001b[0m     \u001b[0mloss\u001b[0m\u001b[0;34m.\u001b[0m\u001b[0mbackward\u001b[0m\u001b[0;34m(\u001b[0m\u001b[0;34m)\u001b[0m \u001b[0;31m#微分\u001b[0m\u001b[0;34m\u001b[0m\u001b[0m\n\u001b[1;32m     12\u001b[0m     \u001b[0moptimizer\u001b[0m\u001b[0;34m.\u001b[0m\u001b[0mstep\u001b[0m\u001b[0;34m(\u001b[0m\u001b[0;34m)\u001b[0m \u001b[0;31m#Lossをそれぞれで微分したものを引く作業\u001b[0m\u001b[0;34m\u001b[0m\u001b[0m\n\u001b[0;32m---> 13\u001b[0;31m     \u001b[0mmodel\u001b[0m\u001b[0;34m.\u001b[0m\u001b[0mnon_negative\u001b[0m\u001b[0;34m(\u001b[0m\u001b[0;36m2\u001b[0m\u001b[0;34m)\u001b[0m\u001b[0;34m\u001b[0m\u001b[0m\n\u001b[0m\u001b[1;32m     14\u001b[0m \u001b[0;31m#    model.P = torch.nn.functional.relu(model.P)\u001b[0m\u001b[0;34m\u001b[0m\u001b[0;34m\u001b[0m\u001b[0m\n\u001b[1;32m     15\u001b[0m \u001b[0;31m#    model.Q = torch.nn.functional.relu(model.Q)\u001b[0m\u001b[0;34m\u001b[0m\u001b[0;34m\u001b[0m\u001b[0m\n",
      "\u001b[0;32m<ipython-input-44-d7bfe3a3eb4f>\u001b[0m in \u001b[0;36mnon_negative\u001b[0;34m(self, K)\u001b[0m\n\u001b[1;32m      8\u001b[0m     \u001b[0;32mdef\u001b[0m \u001b[0mnon_negative\u001b[0m\u001b[0;34m(\u001b[0m\u001b[0mself\u001b[0m\u001b[0;34m,\u001b[0m\u001b[0mK\u001b[0m\u001b[0;34m)\u001b[0m\u001b[0;34m:\u001b[0m\u001b[0;34m\u001b[0m\u001b[0m\n\u001b[1;32m      9\u001b[0m         \u001b[0;32mfor\u001b[0m \u001b[0mk\u001b[0m \u001b[0;32min\u001b[0m \u001b[0mrange\u001b[0m\u001b[0;34m(\u001b[0m\u001b[0mK\u001b[0m\u001b[0;34m)\u001b[0m\u001b[0;34m:\u001b[0m\u001b[0;34m\u001b[0m\u001b[0m\n\u001b[0;32m---> 10\u001b[0;31m             \u001b[0;32mfor\u001b[0m \u001b[0mi\u001b[0m \u001b[0;32min\u001b[0m \u001b[0mrange\u001b[0m\u001b[0;34m(\u001b[0m\u001b[0mR\u001b[0m\u001b[0;34m.\u001b[0m\u001b[0msize\u001b[0m\u001b[0;34m[\u001b[0m\u001b[0;36m0\u001b[0m\u001b[0;34m]\u001b[0m\u001b[0;34m)\u001b[0m\u001b[0;34m:\u001b[0m\u001b[0;34m\u001b[0m\u001b[0m\n\u001b[0m\u001b[1;32m     11\u001b[0m                 \u001b[0;32mif\u001b[0m \u001b[0mself\u001b[0m\u001b[0;34m.\u001b[0m\u001b[0mP\u001b[0m\u001b[0;34m[\u001b[0m\u001b[0mk\u001b[0m\u001b[0;34m,\u001b[0m\u001b[0mi\u001b[0m\u001b[0;34m]\u001b[0m \u001b[0;34m<=\u001b[0m \u001b[0;36m0\u001b[0m\u001b[0;34m:\u001b[0m\u001b[0;34m\u001b[0m\u001b[0m\n\u001b[1;32m     12\u001b[0m                     \u001b[0mself\u001b[0m\u001b[0;34m.\u001b[0m\u001b[0mP\u001b[0m \u001b[0;34m=\u001b[0m \u001b[0;36m0\u001b[0m\u001b[0;34m\u001b[0m\u001b[0m\n",
      "\u001b[0;31mTypeError\u001b[0m: 'builtin_function_or_method' object is not subscriptable"
     ]
    }
   ],
   "source": [
    "model = MF((R.size(0), R.size(1)), 2)\n",
    "optimizer = optim.Adam(model.parameters(), lr = 0.002) #更新方法をAdam，更新するものはmodel.parametersで，learning rateを0.002で指定．\n",
    "creterion = nn.MSELoss(size_average=False) #nn.ModuleでMSELossを算出するもの\n",
    "for i in range(100):\n",
    "    optimizer.zero_grad() # 勾配の初期化\n",
    "    pred = model(R) #forwardが実行される\n",
    "#    loss = torch.sum(torch.pow(R - pred, 2))\n",
    "    loss = mll_poisson(R, pred) + map_pred(model.P, model.Q, 0.002) #Lossの合計を計算\n",
    "    a = mll_poisson(R,pred)\n",
    "    b = map_pred(model.P, model.Q, 0.2)\n",
    "    loss.backward() #微分\n",
    "    optimizer.step() #Lossをそれぞれで微分したものを引く作業\n",
    "    model.non_negative(2)\n",
    "#    model.P = torch.nn.functional.relu(model.P)\n",
    "#    model.Q = torch.nn.functional.relu(model.Q)\n",
    "\n",
    "    print(a,b)\n",
    "    print(loss.data[0]) #Lossがいくつだったか表示"
   ]
  },
  {
   "cell_type": "code",
   "execution_count": null,
   "metadata": {
    "collapsed": false
   },
   "outputs": [],
   "source": [
    "R"
   ]
  },
  {
   "cell_type": "code",
   "execution_count": null,
   "metadata": {
    "collapsed": false
   },
   "outputs": [],
   "source": [
    "for i in range(R.size(0)):\n",
    "    for j in range(R.size(1)):\n",
    "        if R[i,j].data[0] <= 1:\n",
    "            continue\n",
    "        R[i,j] = torch.prod(torch.range(1,R[i,j].data[0]))"
   ]
  },
  {
   "cell_type": "code",
   "execution_count": null,
   "metadata": {
    "collapsed": false
   },
   "outputs": [],
   "source": [
    "torch.rand(3,4)"
   ]
  },
  {
   "cell_type": "code",
   "execution_count": null,
   "metadata": {
    "collapsed": false
   },
   "outputs": [],
   "source": [
    "torch.prod(torch.range(1,R[i,j].data[0]))"
   ]
  },
  {
   "cell_type": "code",
   "execution_count": null,
   "metadata": {
    "collapsed": true
   },
   "outputs": [],
   "source": [
    "I = Variable(torch.ones(R.size(0), R.size(1)))"
   ]
  },
  {
   "cell_type": "code",
   "execution_count": null,
   "metadata": {
    "collapsed": false
   },
   "outputs": [],
   "source": [
    "I"
   ]
  },
  {
   "cell_type": "code",
   "execution_count": null,
   "metadata": {
    "collapsed": false
   },
   "outputs": [],
   "source": [
    "R * I"
   ]
  },
  {
   "cell_type": "code",
   "execution_count": null,
   "metadata": {
    "collapsed": false
   },
   "outputs": [],
   "source": [
    "model()"
   ]
  },
  {
   "cell_type": "code",
   "execution_count": null,
   "metadata": {
    "collapsed": false
   },
   "outputs": [],
   "source": [
    "print(model.P, model.Q)"
   ]
  },
  {
   "cell_type": "code",
   "execution_count": null,
   "metadata": {
    "collapsed": false
   },
   "outputs": [],
   "source": [
    "model.P.data"
   ]
  },
  {
   "cell_type": "code",
   "execution_count": null,
   "metadata": {
    "collapsed": true
   },
   "outputs": [],
   "source": []
  }
 ],
 "metadata": {
  "anaconda-cloud": {},
  "kernelspec": {
   "display_name": "Python [default]",
   "language": "python",
   "name": "python3"
  },
  "language_info": {
   "codemirror_mode": {
    "name": "ipython",
    "version": 3
   },
   "file_extension": ".py",
   "mimetype": "text/x-python",
   "name": "python",
   "nbconvert_exporter": "python",
   "pygments_lexer": "ipython3",
   "version": "3.5.2"
  }
 },
 "nbformat": 4,
 "nbformat_minor": 1
}
