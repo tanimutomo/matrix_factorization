{
 "cells": [
  {
   "cell_type": "code",
   "execution_count": 20,
   "metadata": {
    "collapsed": true
   },
   "outputs": [],
   "source": [
    "import torch\n",
    "import torch.nn as nn\n",
    "from torch.autograd import Variable\n",
    "import torch.optim as optim\n",
    "import math\n",
    "import numpy as np"
   ]
  },
  {
   "cell_type": "code",
   "execution_count": 21,
   "metadata": {
    "collapsed": false
   },
   "outputs": [
    {
     "ename": "UnicodeDecodeError",
     "evalue": "'utf-8' codec can't decode byte 0x80 in position 0: invalid start byte",
     "output_type": "error",
     "traceback": [
      "\u001b[0;31m---------------------------------------------------------------------------\u001b[0m",
      "\u001b[0;31mUnicodeDecodeError\u001b[0m                        Traceback (most recent call last)",
      "\u001b[0;32m<ipython-input-21-9108b35da98c>\u001b[0m in \u001b[0;36m<module>\u001b[0;34m()\u001b[0m\n\u001b[1;32m      1\u001b[0m \u001b[0;32mimport\u001b[0m \u001b[0mpickle\u001b[0m\u001b[0;34m\u001b[0m\u001b[0m\n\u001b[1;32m      2\u001b[0m \u001b[0;32mwith\u001b[0m \u001b[0mopen\u001b[0m\u001b[0;34m(\u001b[0m\u001b[0;34m'm3_item.pkl'\u001b[0m\u001b[0;34m,\u001b[0m \u001b[0;34m\"r\"\u001b[0m\u001b[0;34m)\u001b[0m \u001b[0;32mas\u001b[0m \u001b[0mf\u001b[0m\u001b[0;34m:\u001b[0m\u001b[0;34m\u001b[0m\u001b[0m\n\u001b[0;32m----> 3\u001b[0;31m     \u001b[0mdf_m3_item_load\u001b[0m \u001b[0;34m=\u001b[0m \u001b[0mpickle\u001b[0m\u001b[0;34m.\u001b[0m\u001b[0mload\u001b[0m\u001b[0;34m(\u001b[0m\u001b[0mf\u001b[0m\u001b[0;34m)\u001b[0m\u001b[0;34m\u001b[0m\u001b[0m\n\u001b[0m\u001b[1;32m      4\u001b[0m     \u001b[0mprint\u001b[0m\u001b[0;34m(\u001b[0m\u001b[0mdf_m3_item_load\u001b[0m\u001b[0;34m)\u001b[0m\u001b[0;34m\u001b[0m\u001b[0m\n",
      "\u001b[0;32m~/.pyenv/versions/anaconda3-4.2.0/lib/python3.5/codecs.py\u001b[0m in \u001b[0;36mdecode\u001b[0;34m(self, input, final)\u001b[0m\n\u001b[1;32m    319\u001b[0m         \u001b[0;31m# decode input (taking the buffer into account)\u001b[0m\u001b[0;34m\u001b[0m\u001b[0;34m\u001b[0m\u001b[0m\n\u001b[1;32m    320\u001b[0m         \u001b[0mdata\u001b[0m \u001b[0;34m=\u001b[0m \u001b[0mself\u001b[0m\u001b[0;34m.\u001b[0m\u001b[0mbuffer\u001b[0m \u001b[0;34m+\u001b[0m \u001b[0minput\u001b[0m\u001b[0;34m\u001b[0m\u001b[0m\n\u001b[0;32m--> 321\u001b[0;31m         \u001b[0;34m(\u001b[0m\u001b[0mresult\u001b[0m\u001b[0;34m,\u001b[0m \u001b[0mconsumed\u001b[0m\u001b[0;34m)\u001b[0m \u001b[0;34m=\u001b[0m \u001b[0mself\u001b[0m\u001b[0;34m.\u001b[0m\u001b[0m_buffer_decode\u001b[0m\u001b[0;34m(\u001b[0m\u001b[0mdata\u001b[0m\u001b[0;34m,\u001b[0m \u001b[0mself\u001b[0m\u001b[0;34m.\u001b[0m\u001b[0merrors\u001b[0m\u001b[0;34m,\u001b[0m \u001b[0mfinal\u001b[0m\u001b[0;34m)\u001b[0m\u001b[0;34m\u001b[0m\u001b[0m\n\u001b[0m\u001b[1;32m    322\u001b[0m         \u001b[0;31m# keep undecoded input until the next call\u001b[0m\u001b[0;34m\u001b[0m\u001b[0;34m\u001b[0m\u001b[0m\n\u001b[1;32m    323\u001b[0m         \u001b[0mself\u001b[0m\u001b[0;34m.\u001b[0m\u001b[0mbuffer\u001b[0m \u001b[0;34m=\u001b[0m \u001b[0mdata\u001b[0m\u001b[0;34m[\u001b[0m\u001b[0mconsumed\u001b[0m\u001b[0;34m:\u001b[0m\u001b[0;34m]\u001b[0m\u001b[0;34m\u001b[0m\u001b[0m\n",
      "\u001b[0;31mUnicodeDecodeError\u001b[0m: 'utf-8' codec can't decode byte 0x80 in position 0: invalid start byte"
     ]
    }
   ],
   "source": [
    "import pickle\n",
    "with open('pkls/m3_item.pkl', \"r\") as f:\n",
    "    df_m3_item_load = pickle.load(f)\n",
    "    print(df_m3_item_load)"
   ]
  },
  {
   "cell_type": "code",
   "execution_count": 22,
   "metadata": {
    "collapsed": false
   },
   "outputs": [
    {
     "name": "stdout",
     "output_type": "stream",
     "text": [
      "[[ 5  2  0 ...,  1  0  0]\n",
      " [12  1  0 ...,  0  0  1]\n",
      " [ 1  0  0 ...,  0  0  0]\n",
      " ..., \n",
      " [ 8  9  0 ...,  1  0  0]\n",
      " [ 0  0  0 ...,  0  0  0]\n",
      " [ 5  6  0 ...,  0  0  0]]\n"
     ]
    }
   ],
   "source": [
    "print(np.load('mat_m3_item.npy'))"
   ]
  },
  {
   "cell_type": "code",
   "execution_count": 2,
   "metadata": {
    "collapsed": true
   },
   "outputs": [],
   "source": [
    "class MF(nn.Module):\n",
    "    def __init__(self, input_size, K): \n",
    "        super(MF,self).__init__()\n",
    "        self.input_size = input_size\n",
    "        self.P = nn.Parameter(torch.Tensor(K, input_size[0]).uniform_(0,1))\n",
    "        self.Q = nn.Parameter(torch.Tensor(K, input_size[1]).uniform_(0,1))\n",
    "        \n",
    "    def forward(self):\n",
    "        return torch.matmul(torch.t(self.P), self.Q) \n",
    "\n",
    "    def project(self):\n",
    "        self.P.data = torch.max(self.P.data, torch.zeros(self.P.data.size()))\n",
    "        self.Q.data = torch.max(self.Q.data, torch.zeros(self.Q.data.size()))"
   ]
  },
  {
   "cell_type": "code",
   "execution_count": 3,
   "metadata": {
    "collapsed": true
   },
   "outputs": [],
   "source": [
    "def ll_gaussian(x, mu, sigma2, missing=False):\n",
    "    if missing:\n",
    "        weight = (x != 0).float()\n",
    "        return -0.5 * (math.log(2 * math.pi * sigma2) + torch.pow(x - mu, 2) / sigma2) * weight\n",
    "    return -0.5 * (math.log(2 * math.pi * sigma2) + torch.pow(x - mu, 2) / sigma2)"
   ]
  },
  {
   "cell_type": "code",
   "execution_count": 4,
   "metadata": {
    "collapsed": true
   },
   "outputs": [],
   "source": [
    "def ll_poisson(x, lam, missing=False):\n",
    "    if missing:\n",
    "        weight = (x != 0).float()\n",
    "        return (x * torch.log(lam) - lam) * weight\n",
    "    return x * torch.log(lam) - lam"
   ]
  },
  {
   "cell_type": "code",
   "execution_count": 5,
   "metadata": {
    "collapsed": true
   },
   "outputs": [],
   "source": [
    "def update_param_gaussian(R, model, optimizer, missing=False):\n",
    "    optimizer.zero_grad()\n",
    "    pred = model()\n",
    "    log_likelihood = ll_gaussian(R, pred, 1, missing=missing)\n",
    "    prior_P = ll_gaussian(model.P, 0, 1/0.003)\n",
    "    prior_Q = ll_gaussian(model.Q, 0, 1/0.003)\n",
    "    loss = -(torch.sum(log_likelihood) + torch.sum(prior_P) + torch.sum(prior_Q))\n",
    "    loss.backward()\n",
    "    optimizer.step()\n",
    "    return loss.data[0]"
   ]
  },
  {
   "cell_type": "code",
   "execution_count": 6,
   "metadata": {
    "collapsed": true
   },
   "outputs": [],
   "source": [
    "def update_param_poisson(R, model, optimizer, missing=False):\n",
    "    optimizer.zero_grad()\n",
    "    pred = model()\n",
    "    log_likelihood = ll_poisson(R, pred, missing=missing)\n",
    "    loss = -torch.sum(log_likelihood)\n",
    "    loss.backward()\n",
    "    optimizer.step()\n",
    "    return loss.data[0]\n"
   ]
  },
  {
   "cell_type": "code",
   "execution_count": 7,
   "metadata": {
    "collapsed": false
   },
   "outputs": [
    {
     "name": "stdout",
     "output_type": "stream",
     "text": [
      "Epoch 1: Loss:51.99916076660156\n",
      "Epoch 101: Loss:-2.2936182022094727\n",
      "Epoch 201: Loss:-3.287109375\n",
      "Epoch 301: Loss:-7.284323215484619\n",
      "Epoch 401: Loss:-8.021031379699707\n",
      "Epoch 501: Loss:-8.068026542663574\n",
      "Epoch 601: Loss:-8.072629928588867\n",
      "Epoch 701: Loss:-8.072924613952637\n",
      "Epoch 801: Loss:-8.072936058044434\n",
      "Epoch 901: Loss:-8.072937965393066\n",
      "Epoch 1000: Loss:-8.072938919067383\n",
      "Ground Truth:\n",
      " 5  3  0  1\n",
      " 4  0  0  1\n",
      " 1  1  0  5\n",
      " 1  0  0  4\n",
      " 0  1  5  4\n",
      "[torch.FloatTensor of size 5x4]\n",
      "\n",
      "Predict:\n",
      " 5.0000  3.0000  4.1549  1.0000\n",
      " 4.0000  2.4167  3.5387  1.0000\n",
      " 1.0000  1.0000  5.9859  5.0000\n",
      " 1.0000  0.9167  4.9120  4.0000\n",
      " 1.1429  1.0000  5.0000  4.0000\n",
      "[torch.FloatTensor of size 5x4]\n",
      "\n",
      "P:\n",
      " 2.2320  1.7856  0.4464  0.4464  0.5102\n",
      " 0.0000  0.1309  3.1421  2.4875  2.4688\n",
      "[torch.FloatTensor of size 2x5]\n",
      "\n",
      "Q:\n",
      " 2.2401  1.3441  1.8615  0.4480\n",
      " 0.0000  0.1273  1.6406  1.5276\n",
      "[torch.FloatTensor of size 2x4]\n",
      "\n"
     ]
    }
   ],
   "source": [
    "if __name__ == '__main__':\n",
    "    R = Variable(torch.FloatTensor([\n",
    "            [5, 3, 0, 1],\n",
    "            [4, 0, 0, 1],\n",
    "            [1, 1, 0, 5],\n",
    "            [1, 0, 0, 4],\n",
    "            [0, 1, 5, 4],\n",
    "            ]\n",
    "        ))\n",
    "\n",
    "    model = MF(R.size(), 2)\n",
    "    optimizer_p = optim.Adam([model.P], lr = 0.02)\n",
    "    optimizer_q = optim.Adam([model.Q], lr = 0.02)\n",
    "\n",
    "    for i in range(1000):\n",
    "        update_param_poisson(R, model, optimizer_p, missing=True)\n",
    "        model.project()\n",
    "        loss = update_param_poisson(R, model, optimizer_q, missing=True)\n",
    "        model.project()\n",
    "\n",
    "        if i % 100 == 0:\n",
    "            print(\"Epoch {}: Loss:{}\".format(i+1, loss))\n",
    "\n",
    "    print(\"Epoch {}: Loss:{}\".format(i+1, loss))\n",
    "    print(\"Ground Truth:{}\".format(R.data))\n",
    "    print(\"Predict:{}\".format(model().data))\n",
    "\n",
    "    print(\"P:{}\".format(model.P.data))\n",
    "    print(\"Q:{}\".format(model.Q.data))\n"
   ]
  }
 ],
 "metadata": {
  "anaconda-cloud": {},
  "kernelspec": {
   "display_name": "Python [conda root]",
   "language": "python",
   "name": "conda-root-py"
  },
  "language_info": {
   "codemirror_mode": {
    "name": "ipython",
    "version": 3
   },
   "file_extension": ".py",
   "mimetype": "text/x-python",
   "name": "python",
   "nbconvert_exporter": "python",
   "pygments_lexer": "ipython3",
   "version": "3.5.2"
  }
 },
 "nbformat": 4,
 "nbformat_minor": 1
}
